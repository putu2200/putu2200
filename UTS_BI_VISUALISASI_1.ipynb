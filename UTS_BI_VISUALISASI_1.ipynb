{
  "nbformat": 4,
  "nbformat_minor": 0,
  "metadata": {
    "colab": {
      "provenance": [],
      "authorship_tag": "ABX9TyOCFWqo8YBPW+gb8i7InrfF",
      "include_colab_link": true
    },
    "kernelspec": {
      "name": "python3",
      "display_name": "Python 3"
    },
    "language_info": {
      "name": "python"
    }
  },
  "cells": [
    {
      "cell_type": "markdown",
      "metadata": {
        "id": "view-in-github",
        "colab_type": "text"
      },
      "source": [
        "<a href=\"https://colab.research.google.com/github/putu2200/putu2200/blob/main/UTS_BI_VISUALISASI_1.ipynb\" target=\"_parent\"><img src=\"https://colab.research.google.com/assets/colab-badge.svg\" alt=\"Open In Colab\"/></a>"
      ]
    },
    {
      "cell_type": "markdown",
      "source": [
        "sebuah transaksi penjualan di mana kasir minimart ingin dapat menunjukkan kepada pemilik bagaimana jumlah pembelian setiap bulannya apa ada penaikan atau penurunan pembelian produk."
      ],
      "metadata": {
        "id": "V14fNfiul82h"
      }
    },
    {
      "cell_type": "code",
      "execution_count": null,
      "metadata": {
        "colab": {
          "base_uri": "https://localhost:8080/",
          "height": 295
        },
        "id": "xD07XowhKcIF",
        "outputId": "d2388e6f-e402-4d95-f977-1b7ec4ccbc56"
      },
      "outputs": [
        {
          "output_type": "display_data",
          "data": {
            "text/plain": [
              "<Figure size 432x288 with 1 Axes>"
            ],
            "image/png": "[encoded data removed]"
          },
          "metadata": {
            "needs_background": "light"
          }
        }
      ],
      "source": [
        "import matplotlib.pyplot as plt\n",
        "import numpy as np\n",
        "import pandas as pd\n",
        "\n",
        "jumlah = (4098, 4374, 2155)\n",
        "tgl = (1, 2, 3)\n",
        "\n",
        "df = pd.DataFrame({\n",
        "    'jumlah' : jumlah,\n",
        "    'tgl' : tgl,\n",
        "})\n",
        "df.sort_values(by='tgl',inplace=True)\n",
        "x_coords = np.arange(len(df))\n",
        "colors = ['#0000FF' for _ in range(len(df))]\n",
        "colors[-2] = '#00FFFF'\n",
        "plt.bar(x_coords, df['jumlah'], tick_label=df['tgl'],color=colors)\n",
        "plt.ylabel('Jumlah Penjualan')\n",
        "plt.xlabel('Tanggal')\n",
        "plt.title('Penjualan Produk Bulan Januari')\n",
        "plt.show()"
      ]
    }
  ]
}